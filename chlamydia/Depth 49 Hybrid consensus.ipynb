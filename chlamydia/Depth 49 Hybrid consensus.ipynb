{
 "cells": [
  {
   "cell_type": "code",
   "execution_count": null,
   "metadata": {},
   "outputs": [],
   "source": [
    "import iseq_prof_analysis as analysis\n",
    "import itertools\n",
    "import plotly.express as px\n",
    "from fasta_reader import read_fasta\n",
    "from pathlib import Path\n",
    "from sam_io import read_sam\n",
    "import iseq_prof\n",
    "import gff_io\n",
    "from tqdm.notebook import tqdm\n",
    "import hmmer\n",
    "from dna_features_viewer import GraphicFeature, GraphicRecord"
   ]
  },
  {
   "cell_type": "code",
   "execution_count": null,
   "metadata": {},
   "outputs": [],
   "source": [
    "analysis.load_config()\n",
    "EVALUE_THRSHOLD = 1e-10"
   ]
  },
  {
   "cell_type": "markdown",
   "metadata": {},
   "source": [
    "# Depth 49, Hybrid consensus"
   ]
  },
  {
   "cell_type": "code",
   "execution_count": null,
   "metadata": {},
   "outputs": [],
   "source": [
    "root = analysis.config.chlamydia.root_dir\n",
    "hybrid_consensus = analysis.config.chlamydia.hybrid_consensus\n",
    "output_dir = root / \"output0.01\"\n",
    "hybrid = list(read_fasta(root / hybrid_consensus))\n",
    "print(f\"# {hybrid_consensus}\")\n",
    "print(f\"Number of targets: {len(hybrid)}\")\n",
    "print(f\"Target 2: >{hybrid[1].defline}\")"
   ]
  },
  {
   "cell_type": "markdown",
   "metadata": {},
   "source": [
    "## Prokka+HMMER3"
   ]
  },
  {
   "cell_type": "code",
   "execution_count": null,
   "metadata": {},
   "outputs": [],
   "source": [
    "assembly_gffs = {}\n",
    "\n",
    "for assembly_gff in gff_io.read_gff(output_dir / \"prokka\" / \"assembly.gff\"):\n",
    "    ID = assembly_gff.attributes_asdict()[\"ID\"]\n",
    "    assembly_gffs[ID] = assembly_gff\n",
    "\n",
    "features = []\n",
    "colors = itertools.cycle(px.colors.qualitative.Plotly)\n",
    "profile_colors = {}\n",
    "for domtbl_row in hmmer.read_domtbl(output_dir / \"assembly\" / \"domtblout.txt\"):\n",
    "    assembly_gff = assembly_gffs[domtbl_row.query.name]\n",
    "    offset = int(assembly_gff.start) - 1\n",
    "\n",
    "    alifrom = (domtbl_row.ali_coord.start - 1) * 3\n",
    "    alito = domtbl_row.ali_coord.stop * 3\n",
    "\n",
    "    # [start, end)\n",
    "    start = offset + alifrom\n",
    "    end = offset + alito\n",
    "    \n",
    "    profile_name = domtbl_row.target.name\n",
    "    if profile_name not in profile_colors:\n",
    "        profile_colors[profile_name] = next(colors)\n",
    "\n",
    "    strand = int(assembly_gff.strand + \"1\")\n",
    "    feature = GraphicFeature(start=start, end=end, strand=strand,\n",
    "                             color=profile_colors[profile_name],\n",
    "                             label=profile_name)\n",
    "    features.append(feature)\n",
    "\n",
    "record = GraphicRecord(sequence_length=len(hybrid[1].sequence), features=features)\n",
    "# ax = record.plot(figure_width=20)[0]\n",
    "# ax.figure.savefig('prokka_on_hybrid_depth49_consensus.png', bbox_inches='tight')\n",
    "record.plot(figure_width=20);"
   ]
  },
  {
   "cell_type": "markdown",
   "metadata": {},
   "source": [
    "## iSeq (epsilon=0.1)"
   ]
  },
  {
   "cell_type": "code",
   "execution_count": null,
   "metadata": {},
   "outputs": [],
   "source": [
    "output_dir = root / \"output0.1\"\n",
    "features = []\n",
    "for item in gff_io.read_gff(output_dir / \"assembly\" / \"output.gff\"):\n",
    "\n",
    "    atts = item.attributes_asdict()\n",
    "    if float(atts[\"E-value\"]) > EVALUE_THRSHOLD:\n",
    "        continue\n",
    "        \n",
    "    profile_name = atts[\"Profile_name\"]\n",
    "    if profile_name not in profile_colors:\n",
    "        profile_colors[profile_name] = next(colors)\n",
    "\n",
    "    start = int(item.start)\n",
    "    end = int(item.end)\n",
    "    strand = int(item.strand + \"1\")\n",
    "    feature = GraphicFeature(start=start, end=end, strand=strand,\n",
    "                             color=profile_colors[profile_name],\n",
    "                             label=profile_name)\n",
    "    features.append(feature)\n",
    "\n",
    "record = GraphicRecord(sequence_length=len(hybrid[1].sequence), features=features)\n",
    "# ax = record.plot(figure_width=20)[0]\n",
    "# ax.figure.savefig('iseq_on_hybrid_depth49_consensus.png', bbox_inches='tight')\n",
    "record.plot(figure_width=20);"
   ]
  },
  {
   "cell_type": "code",
   "execution_count": null,
   "metadata": {},
   "outputs": [],
   "source": [
    "## iSeq (epsilon=0.01)"
   ]
  },
  {
   "cell_type": "code",
   "execution_count": null,
   "metadata": {},
   "outputs": [],
   "source": [
    "output_dir = root / \"output0.01\"\n",
    "features = []\n",
    "for item in gff_io.read_gff(output_dir / \"assembly\" / \"output.gff\"):\n",
    "\n",
    "    atts = item.attributes_asdict()\n",
    "    if float(atts[\"E-value\"]) > EVALUE_THRSHOLD:\n",
    "        continue\n",
    "        \n",
    "    profile_name = atts[\"Profile_name\"]\n",
    "    if profile_name not in profile_colors:\n",
    "        profile_colors[profile_name] = next(colors)\n",
    "\n",
    "    start = int(item.start)\n",
    "    end = int(item.end)\n",
    "    strand = int(item.strand + \"1\")\n",
    "    feature = GraphicFeature(start=start, end=end, strand=strand,\n",
    "                             color=profile_colors[profile_name],\n",
    "                             label=profile_name)\n",
    "    features.append(feature)\n",
    "\n",
    "record = GraphicRecord(sequence_length=len(hybrid[1].sequence), features=features)\n",
    "# ax = record.plot(figure_width=20)[0]\n",
    "# ax.figure.savefig('iseq_on_hybrid_depth49_consensus.png', bbox_inches='tight')\n",
    "record.plot(figure_width=20);"
   ]
  },
  {
   "cell_type": "code",
   "execution_count": null,
   "metadata": {},
   "outputs": [],
   "source": [
    "## iSeq (epsilon=0.001)"
   ]
  },
  {
   "cell_type": "code",
   "execution_count": null,
   "metadata": {},
   "outputs": [],
   "source": [
    "output_dir = root / \"output0.001\"\n",
    "features = []\n",
    "for item in gff_io.read_gff(output_dir / \"assembly\" / \"output.gff\"):\n",
    "\n",
    "    atts = item.attributes_asdict()\n",
    "    if float(atts[\"E-value\"]) > EVALUE_THRSHOLD:\n",
    "        continue\n",
    "        \n",
    "    profile_name = atts[\"Profile_name\"]\n",
    "    if profile_name not in profile_colors:\n",
    "        profile_colors[profile_name] = next(colors)\n",
    "\n",
    "    start = int(item.start)\n",
    "    end = int(item.end)\n",
    "    strand = int(item.strand + \"1\")\n",
    "    feature = GraphicFeature(start=start, end=end, strand=strand,\n",
    "                             color=profile_colors[profile_name],\n",
    "                             label=profile_name)\n",
    "    features.append(feature)\n",
    "\n",
    "record = GraphicRecord(sequence_length=len(hybrid[1].sequence), features=features)\n",
    "# ax = record.plot(figure_width=20)[0]\n",
    "# ax.figure.savefig('iseq_on_hybrid_depth49_consensus.png', bbox_inches='tight')\n",
    "record.plot(figure_width=20);"
   ]
  },
  {
   "cell_type": "code",
   "execution_count": null,
   "metadata": {},
   "outputs": [],
   "source": []
  },
  {
   "cell_type": "code",
   "execution_count": null,
   "metadata": {},
   "outputs": [],
   "source": []
  },
  {
   "cell_type": "code",
   "execution_count": null,
   "metadata": {},
   "outputs": [],
   "source": []
  },
  {
   "cell_type": "code",
   "execution_count": null,
   "metadata": {},
   "outputs": [],
   "source": []
  },
  {
   "cell_type": "code",
   "execution_count": null,
   "metadata": {},
   "outputs": [],
   "source": []
  },
  {
   "cell_type": "code",
   "execution_count": null,
   "metadata": {},
   "outputs": [],
   "source": []
  }
 ],
 "metadata": {
  "kernelspec": {
   "display_name": "Python 3",
   "language": "python",
   "name": "python3"
  },
  "language_info": {
   "codemirror_mode": {
    "name": "ipython",
    "version": 3
   },
   "file_extension": ".py",
   "mimetype": "text/x-python",
   "name": "python",
   "nbconvert_exporter": "python",
   "pygments_lexer": "ipython3",
   "version": "3.8.3"
  }
 },
 "nbformat": 4,
 "nbformat_minor": 4
}
