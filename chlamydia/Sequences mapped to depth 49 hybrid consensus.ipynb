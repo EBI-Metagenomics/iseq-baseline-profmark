{
 "cells": [
  {
   "cell_type": "code",
   "execution_count": null,
   "metadata": {},
   "outputs": [],
   "source": [
    "import re\n",
    "import itertools\n",
    "from pathlib import Path\n",
    "from typing import Optional\n",
    "from numpy.random import RandomState\n",
    "import plotly.express as px\n",
    "from collections import defaultdict\n",
    "import numpy as np\n",
    "import matplotlib.pyplot as plt\n",
    "\n",
    "from hmmer import HMMER, read_domtbl, read_domtbl\n",
    "import gff_io\n",
    "from gff_io.interval import PyInterval, RInterval\n",
    "import hmmer_reader\n",
    "import pandas as pd\n",
    "from iseq_prof import pfam, sam\n",
    "import iseq_prof_analysis as analysis\n",
    "from fasta_reader import read_fasta\n",
    "import sam_io\n",
    "from dna_features_viewer import GraphicFeature, GraphicRecord"
   ]
  },
  {
   "cell_type": "code",
   "execution_count": null,
   "metadata": {},
   "outputs": [],
   "source": [
    "# random = RandomState(183)\n",
    "# meta_filepath = Path(\"/Users/horta/db/pfam/Pfam-A.hmm.meta.pkl.gz\")\n",
    "# dombtbl_filepath = Path(\"/Users/horta/ebi/chlamydia/output/assembly/domtblout.txt\")"
   ]
  },
  {
   "cell_type": "code",
   "execution_count": null,
   "metadata": {},
   "outputs": [],
   "source": [
    "analysis.load_config(verbose=True)\n",
    "EVALUE_THRSHOLD = 1e-9\n",
    "RNAME = \"2\""
   ]
  },
  {
   "cell_type": "code",
   "execution_count": null,
   "metadata": {},
   "outputs": [],
   "source": [
    "root = analysis.config.chlamydia.root_dir\n",
    "hybrid_consensus = analysis.config.chlamydia.hybrid_consensus\n",
    "output_dir = root / \"output_depth49_200targets\""
   ]
  },
  {
   "cell_type": "code",
   "execution_count": null,
   "metadata": {},
   "outputs": [],
   "source": [
    "hybrid = list(read_fasta(root / hybrid_consensus))\n",
    "print(f\"# {hybrid_consensus}\")\n",
    "print(f\"Number of targets: {len(hybrid)}\")\n",
    "print(f\"Target 2: >{hybrid[1].defline}\")"
   ]
  },
  {
   "cell_type": "code",
   "execution_count": null,
   "metadata": {},
   "outputs": [],
   "source": [
    "clans = pfam.Clans()\n",
    "def normalize_clan_name(name: Optional[str]) -> str:\n",
    "    if name is None:\n",
    "        return \"Unclassified\"\n",
    "    return name"
   ]
  },
  {
   "cell_type": "code",
   "execution_count": null,
   "metadata": {},
   "outputs": [],
   "source": [
    "assembly_gffs = {}\n",
    "\n",
    "for assembly_gff in gff_io.read_gff(output_dir / \"prokka\" / \"assembly.gff\"):\n",
    "    ID = assembly_gff.attributes_asdict()[\"ID\"]\n",
    "    assembly_gffs[ID] = assembly_gff"
   ]
  },
  {
   "cell_type": "code",
   "execution_count": null,
   "metadata": {},
   "outputs": [],
   "source": [
    "colors = itertools.cycle(px.colors.qualitative.Plotly)\n",
    "clan_colors = {}"
   ]
  },
  {
   "cell_type": "markdown",
   "metadata": {},
   "source": [
    "## Prokka+HMMER3"
   ]
  },
  {
   "cell_type": "code",
   "execution_count": null,
   "metadata": {},
   "outputs": [],
   "source": [
    "features = []\n",
    "for domtbl_row in read_domtbl(output_dir / \"assembly\" / \"domtblout.txt\"):\n",
    "    assembly_gff = assembly_gffs[domtbl_row.query.name]\n",
    "\n",
    "    interval = domtbl_row.ali_coord.interval\n",
    "    interval = PyInterval(interval.start * 3, interval.end * 3)\n",
    "    interval = interval.offset(assembly_gff.interval.start)\n",
    "    \n",
    "    profile_name = domtbl_row.target.name\n",
    "    profile_clan = normalize_clan_name(clans.get(domtbl_row.target.accession))\n",
    "    if profile_clan not in clan_colors:\n",
    "        clan_colors[profile_clan] = next(colors)\n",
    "\n",
    "    strand = int(assembly_gff.strand + \"1\")\n",
    "    feature = GraphicFeature(start=interval.start, end=interval.end, strand=strand,\n",
    "                             color=clan_colors[profile_clan],\n",
    "                             label=profile_name)\n",
    "    features.append(feature)\n",
    "\n",
    "consensus_features = features\n",
    "# record = GraphicRecord(sequence_length=len(hybrid[1].sequence), features=features)\n",
    "# ax = record.plot(figure_width=20)[0]\n",
    "# ax.figure.savefig('prokka_on_hybrid_depth49_consensus.png', bbox_inches='tight')\n",
    "# record.plot(figure_width=20);"
   ]
  },
  {
   "cell_type": "code",
   "execution_count": null,
   "metadata": {},
   "outputs": [],
   "source": [
    "sam_map = sam.SAMMap(output_dir / \"alignment.sam\")"
   ]
  },
  {
   "cell_type": "code",
   "execution_count": null,
   "metadata": {},
   "outputs": [],
   "source": [
    "features_db = defaultdict(list)\n",
    "# features = []\n",
    "hybrid_length = len(hybrid[1].sequence)\n",
    "# mapped_seqids = set()\n",
    "seqid_interval = {}\n",
    "for item in gff_io.read_gff(output_dir / \"output.gff\"):\n",
    "\n",
    "    atts = item.attributes_asdict()\n",
    "    if float(atts[\"E-value\"]) > EVALUE_THRSHOLD:\n",
    "        continue\n",
    "        \n",
    "    profile_name = atts[\"Profile_name\"]\n",
    "    profile_clan = normalize_clan_name(clans.get(atts[\"Profile_acc\"]))\n",
    "\n",
    "#     assert int(item.start) > 0\n",
    "#     assert int(item.end) > int(item.start)\n",
    "#     start, end = map_backs[item.seqid].back(int(item.start) - 1, int(item.end))\n",
    "#     assert end > start\n",
    "#     if end <= 0 or start >= hybrid_length:\n",
    "#         continue\n",
    "    try:\n",
    "        interval = sam_map.back_to_query(item.seqid, item.interval)\n",
    "    except KeyError:\n",
    "        continue\n",
    "    if interval is None:\n",
    "        continue\n",
    "\n",
    "    if profile_clan not in clan_colors:\n",
    "        clan_colors[profile_clan] = next(colors)\n",
    "        \n",
    "#     if item.seqid not in seqid_colors:\n",
    "#         if len(seqid_colors) >= 10:\n",
    "#             continue\n",
    "#         seqid_colors[item.seqid] = next(colors)\n",
    "    \n",
    "#     mapped_seqids.add(item.seqid)\n",
    "    strand = int(item.strand + \"1\")\n",
    "    feature = GraphicFeature(start=interval.start, end=interval.end,\n",
    "                             strand=strand,\n",
    "#                              color=seqid_colors[item.seqid],\n",
    "                             color=clan_colors[profile_clan],\n",
    "                             label=profile_name)\n",
    "    features_db[item.seqid].append(feature)\n",
    "#     features.append(feature)\n",
    "\n",
    "# record = GraphicRecord(sequence_length=hybrid_length, features=features)\n",
    "# ax = record.plot(figure_width=20)[0]\n",
    "# ax.figure.savefig('iseq_on_200_sequences.png', bbox_inches='tight')\n",
    "# record.plot(figure_width=20);"
   ]
  },
  {
   "cell_type": "code",
   "execution_count": null,
   "metadata": {},
   "outputs": [],
   "source": [
    "n = len(features_db) + 1\n",
    "fig, axs = plt.subplots(\n",
    "    n, 1, figsize=(24, 3 * n), sharex=True\n",
    ")\n",
    "\n",
    "record = GraphicRecord(sequence_length=hybrid_length, features=consensus_features)\n",
    "record.plot(ax=axs[0]);\n",
    "\n",
    "for ax, (seqid, features) in zip(axs[1:], features_db.items()):\n",
    "    record = GraphicRecord(sequence_length=hybrid_length, features=features)\n",
    "    interval = sam_map.full_query_interval(seqid)\n",
    "    ax.fill_between(\n",
    "        [interval.start, interval.end], -1, 1, facecolor=\"peachpuff\", alpha=0.5, zorder=-1\n",
    "    )\n",
    "    record.plot(ax=ax);\n",
    "\n",
    "fig.savefig('iseq_on_200_sequences.png', bbox_inches='tight')"
   ]
  }
 ],
 "metadata": {
  "kernelspec": {
   "display_name": "Python 3",
   "language": "python",
   "name": "python3"
  },
  "language_info": {
   "codemirror_mode": {
    "name": "ipython",
    "version": 3
   },
   "file_extension": ".py",
   "mimetype": "text/x-python",
   "name": "python",
   "nbconvert_exporter": "python",
   "pygments_lexer": "ipython3",
   "version": "3.8.5"
  }
 },
 "nbformat": 4,
 "nbformat_minor": 4
}
