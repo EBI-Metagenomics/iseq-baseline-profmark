{
 "cells": [
  {
   "cell_type": "code",
   "execution_count": null,
   "metadata": {},
   "outputs": [],
   "source": [
    "import re\n",
    "import itertools\n",
    "from pathlib import Path\n",
    "from typing import Optional\n",
    "from numpy.random import RandomState\n",
    "import plotly.express as px\n",
    "from collections import defaultdict\n",
    "import numpy as np\n",
    "\n",
    "from pysam import AlignedSegment, AlignmentFile\n",
    "from hmmer import HMMER, read_domtbl, read_domtbl\n",
    "import gff_io\n",
    "import hmmer_reader\n",
    "import pandas as pd\n",
    "from iseq_prof import pfam\n",
    "import iseq_prof_analysis as analysis\n",
    "from fasta_reader import read_fasta\n",
    "import sam_io\n",
    "from dna_features_viewer import GraphicFeature, GraphicRecord"
   ]
  },
  {
   "cell_type": "code",
   "execution_count": null,
   "metadata": {},
   "outputs": [],
   "source": [
    "# random = RandomState(183)\n",
    "# meta_filepath = Path(\"/Users/horta/db/pfam/Pfam-A.hmm.meta.pkl.gz\")\n",
    "# dombtbl_filepath = Path(\"/Users/horta/ebi/chlamydia/output/assembly/domtblout.txt\")"
   ]
  },
  {
   "cell_type": "code",
   "execution_count": null,
   "metadata": {},
   "outputs": [],
   "source": [
    "analysis.load_config(verbose=True)\n",
    "EVALUE_THRSHOLD = 1e-10\n",
    "RNAME = \"2\""
   ]
  },
  {
   "cell_type": "code",
   "execution_count": null,
   "metadata": {},
   "outputs": [],
   "source": [
    "root = analysis.config.chlamydia.root_dir\n",
    "hybrid_consensus = analysis.config.chlamydia.hybrid_consensus\n",
    "output_dir = root / \"output_depth49_200targets\""
   ]
  },
  {
   "cell_type": "code",
   "execution_count": null,
   "metadata": {},
   "outputs": [],
   "source": [
    "hybrid = list(read_fasta(root / hybrid_consensus))\n",
    "print(f\"# {hybrid_consensus}\")\n",
    "print(f\"Number of targets: {len(hybrid)}\")\n",
    "print(f\"Target 2: >{hybrid[1].defline}\")"
   ]
  },
  {
   "cell_type": "code",
   "execution_count": null,
   "metadata": {},
   "outputs": [],
   "source": [
    "clans = pfam.Clans()\n",
    "def normalize_clan_name(name: Optional[str]) -> str:\n",
    "    if name is None:\n",
    "        return \"Unclassified\"\n",
    "    return name"
   ]
  },
  {
   "cell_type": "code",
   "execution_count": null,
   "metadata": {},
   "outputs": [],
   "source": [
    "class MapBack:\n",
    "    def __init__(self, aseq: AlignedSegment):\n",
    "        # 0-coordinate, inclusive-exclusive\n",
    "        reference = np.asarray(aseq.get_reference_positions(True), float)\n",
    "\n",
    "        # 0-coordinate, inclusive-exclusive\n",
    "        self._clip_start = aseq.query_alignment_start\n",
    "        self._clip_end = aseq.query_alignment_end\n",
    "\n",
    "        reference = reference[self._clip_start:self._clip_end]\n",
    "        reference[:] = pd.Series(reference).interpolate().values\n",
    "        assert np.all(np.isfinite(reference))\n",
    "\n",
    "        self._reference = np.asarray(np.round(reference), int)\n",
    "    \n",
    "    def back(self, start: int, end: int) -> int:\n",
    "        \"\"\"\n",
    "        Parameters\n",
    "        ----------\n",
    "        start\n",
    "            0-coordinate, inclusive start on the query.\n",
    "        end\n",
    "            0-coordinate, exclusive end on the query.\n",
    "        \n",
    "        Returns\n",
    "        -------\n",
    "        Tuple[int, int]\n",
    "            0-coordinate, inclusive-exclusive on the reference.\n",
    "        \"\"\"\n",
    "        assert start < end\n",
    "        start = max(start - self._clip_start, 0)\n",
    "        start = min(start, len(self._reference) - 1)\n",
    "        start = self._reference[start]\n",
    "        \n",
    "        end = max(end - self._clip_start, 0)\n",
    "        end = min(end, len(self._reference) - 1)\n",
    "        end = self._reference[end] + 1\n",
    "\n",
    "        return start, end\n",
    "        \n",
    "\n",
    "def create_map_backs(filepath):\n",
    "    samfile = AlignmentFile(filepath, \"rb\")\n",
    "    map_backs = {}\n",
    "\n",
    "    for aseq in samfile.fetch():\n",
    "        if aseq.flag != 0:\n",
    "            continue\n",
    "\n",
    "        assert aseq.query_name not in map_backs\n",
    "        map_backs[aseq.query_name] = MapBack(aseq)\n",
    "\n",
    "    samfile.close()\n",
    "    return map_backs"
   ]
  },
  {
   "cell_type": "markdown",
   "metadata": {},
   "source": [
    "## Prokka+HMMER3"
   ]
  },
  {
   "cell_type": "code",
   "execution_count": null,
   "metadata": {},
   "outputs": [],
   "source": [
    "assembly_gffs = {}\n",
    "\n",
    "for assembly_gff in gff_io.read_gff(output_dir / \"prokka\" / \"assembly.gff\"):\n",
    "    ID = assembly_gff.attributes_asdict()[\"ID\"]\n",
    "    assembly_gffs[ID] = assembly_gff\n",
    "\n",
    "features = []\n",
    "colors = itertools.cycle(px.colors.qualitative.Plotly)\n",
    "clan_colors = {}\n",
    "for domtbl_row in read_domtbl(output_dir / \"assembly\" / \"domtblout.txt\"):\n",
    "    assembly_gff = assembly_gffs[domtbl_row.query.name]\n",
    "    offset = int(assembly_gff.start) - 1\n",
    "\n",
    "    alifrom = (domtbl_row.ali_coord.start - 1) * 3\n",
    "    alito = domtbl_row.ali_coord.stop * 3\n",
    "\n",
    "    # [start, end)\n",
    "    start = offset + alifrom\n",
    "    end = offset + alito\n",
    "    \n",
    "    profile_name = domtbl_row.target.name\n",
    "    profile_clan = normalize_clan_name(clans.get(domtbl_row.target.accession))\n",
    "    if profile_clan not in clan_colors:\n",
    "        clan_colors[profile_clan] = next(colors)\n",
    "\n",
    "    strand = int(assembly_gff.strand + \"1\")\n",
    "    feature = GraphicFeature(start=start, end=end, strand=strand,\n",
    "                             color=clan_colors[profile_clan],\n",
    "                             label=profile_name)\n",
    "    features.append(feature)\n",
    "\n",
    "record = GraphicRecord(sequence_length=len(hybrid[1].sequence), features=features)\n",
    "ax = record.plot(figure_width=20)[0]\n",
    "ax.figure.savefig('prokka_on_hybrid_depth49_consensus.png', bbox_inches='tight')\n",
    "# record.plot(figure_width=20);"
   ]
  },
  {
   "cell_type": "code",
   "execution_count": null,
   "metadata": {},
   "outputs": [],
   "source": [
    "# sam_items = sam_io.read_sam(output_dir / \"alignment.sam\").read_items()\n",
    "# sam_items = [i for i in sam_items if i.rname == RNAME]"
   ]
  },
  {
   "cell_type": "code",
   "execution_count": null,
   "metadata": {},
   "outputs": [],
   "source": [
    "# sam_items = {}\n",
    "\n",
    "# for sam_item in sam_io.read_sam(output_dir / \"alignment.sam\"):\n",
    "#     if sam_item.rname != RNAME:\n",
    "#         continue\n",
    "#     if sam_item.flag.value != 0:\n",
    "#         continue\n",
    "#     assert sam_item.qname not in sam_items\n",
    "#     sam_items[sam_item.qname] = sam_item"
   ]
  },
  {
   "cell_type": "code",
   "execution_count": null,
   "metadata": {},
   "outputs": [],
   "source": [
    "# start_clipping = re.compile(\"^([\\d]+)S\")\n",
    "# stop_clipping = re.compile(\".*[^\\d]([\\d]+)S$\")\n",
    "\n",
    "# start_clip = {}\n",
    "# stop_clip = {}\n",
    "# for sam_item in sam_items.values():\n",
    "#     start_clip[sam_item.qname] = 0\n",
    "#     stop_clip[sam_item.qname] = 0\n",
    "\n",
    "#     m = re.match(start_clipping, sam_item.cigar)\n",
    "#     if m is not None:\n",
    "#         start_clip[sam_item.qname] = int(m.groups()[0])\n",
    "    \n",
    "#     m = re.match(stop_clipping, sam_item.cigar)\n",
    "#     if m is not None:\n",
    "#         stop_clip[sam_item.qname] = int(m.groups()[0])"
   ]
  },
  {
   "cell_type": "code",
   "execution_count": null,
   "metadata": {},
   "outputs": [],
   "source": [
    "map_backs = create_map_backs(output_dir / \"alignment.sam\")"
   ]
  },
  {
   "cell_type": "code",
   "execution_count": null,
   "metadata": {},
   "outputs": [],
   "source": []
  },
  {
   "cell_type": "code",
   "execution_count": null,
   "metadata": {},
   "outputs": [],
   "source": [
    "features = defaultdict(list)\n",
    "features = []\n",
    "hybrid_length = len(hybrid[1].sequence)\n",
    "# seqid_colors = {}\n",
    "for item in gff_io.read_gff(output_dir / \"output.gff\"):\n",
    "\n",
    "    atts = item.attributes_asdict()\n",
    "    if float(atts[\"E-value\"]) > EVALUE_THRSHOLD:\n",
    "        continue\n",
    "#     if float(atts[\"E-value\"]) > 1e-40:\n",
    "#         continue\n",
    "        \n",
    "    profile_name = atts[\"Profile_name\"]\n",
    "    profile_clan = normalize_clan_name(clans.get(atts[\"Profile_acc\"]))\n",
    "\n",
    "    assert int(item.start) > 0\n",
    "    assert int(item.end) > int(item.start)\n",
    "    start, end = map_backs[item.seqid].back(int(item.start) - 1, int(item.end))\n",
    "    assert end > start\n",
    "    if end <= 0 or start >= hybrid_length:\n",
    "        continue\n",
    "\n",
    "    if profile_clan not in clan_colors:\n",
    "        clan_colors[profile_clan] = next(colors)\n",
    "        \n",
    "#     if item.seqid not in seqid_colors:\n",
    "#         if len(seqid_colors) >= 10:\n",
    "#             continue\n",
    "#         seqid_colors[item.seqid] = next(colors)\n",
    "    \n",
    "\n",
    "    strand = int(item.strand + \"1\")\n",
    "    feature = GraphicFeature(start=start, end=end, strand=strand,\n",
    "#                              color=seqid_colors[item.seqid],\n",
    "                             color=clan_colors[profile_clan],\n",
    "                             label=profile_name)\n",
    "#     features[item.seqid].append(feature)\n",
    "    features.append(feature)\n",
    "\n",
    "record = GraphicRecord(sequence_length=hybrid_length, features=features)\n",
    "ax = record.plot(figure_width=20)[0]\n",
    "ax.figure.savefig('iseq_on_200_sequences.png', bbox_inches='tight')\n",
    "# record.plot(figure_width=20);"
   ]
  },
  {
   "cell_type": "code",
   "execution_count": null,
   "metadata": {},
   "outputs": [],
   "source": [
    "# for feats in list(features.values())[:10]:\n",
    "#     record = GraphicRecord(sequence_length=hybrid_length, features=feats)\n",
    "#     record.plot(figure_width=20);"
   ]
  },
  {
   "cell_type": "code",
   "execution_count": null,
   "metadata": {},
   "outputs": [],
   "source": []
  },
  {
   "cell_type": "code",
   "execution_count": null,
   "metadata": {},
   "outputs": [],
   "source": [
    "max(starts)"
   ]
  },
  {
   "cell_type": "code",
   "execution_count": null,
   "metadata": {},
   "outputs": [],
   "source": [
    "item"
   ]
  },
  {
   "cell_type": "code",
   "execution_count": null,
   "metadata": {},
   "outputs": [],
   "source": [
    "alignment_offset[\"851c3f75-66d5-41df-babd-f96959aa5855\"]"
   ]
  },
  {
   "cell_type": "code",
   "execution_count": null,
   "metadata": {},
   "outputs": [],
   "source": []
  },
  {
   "cell_type": "code",
   "execution_count": null,
   "metadata": {},
   "outputs": [],
   "source": []
  },
  {
   "cell_type": "code",
   "execution_count": null,
   "metadata": {},
   "outputs": [],
   "source": []
  },
  {
   "cell_type": "code",
   "execution_count": null,
   "metadata": {},
   "outputs": [],
   "source": []
  },
  {
   "cell_type": "code",
   "execution_count": null,
   "metadata": {},
   "outputs": [],
   "source": [
    "meta = pd.read_pickle(meta_filepath)"
   ]
  },
  {
   "cell_type": "code",
   "execution_count": null,
   "metadata": {},
   "outputs": [],
   "source": [
    "rows = read_domtbl(dombtbl_filepath)"
   ]
  },
  {
   "cell_type": "code",
   "execution_count": null,
   "metadata": {},
   "outputs": [],
   "source": [
    "true_profiles = [row.target.accession for row in rows]"
   ]
  },
  {
   "cell_type": "code",
   "execution_count": null,
   "metadata": {},
   "outputs": [],
   "source": [
    "all_false_profiles = set(meta[\"ACC\"].tolist()) - set(true_profiles)\n",
    "false_profiles = list(random.choice(list(all_false_profiles), size=100, replace=False))"
   ]
  },
  {
   "cell_type": "code",
   "execution_count": null,
   "metadata": {},
   "outputs": [],
   "source": [
    "hmmer.fetch(true_profiles + false_profiles)"
   ]
  }
 ],
 "metadata": {
  "kernelspec": {
   "display_name": "Python 3",
   "language": "python",
   "name": "python3"
  },
  "language_info": {
   "codemirror_mode": {
    "name": "ipython",
    "version": 3
   },
   "file_extension": ".py",
   "mimetype": "text/x-python",
   "name": "python",
   "nbconvert_exporter": "python",
   "pygments_lexer": "ipython3",
   "version": "3.8.3"
  }
 },
 "nbformat": 4,
 "nbformat_minor": 4
}
