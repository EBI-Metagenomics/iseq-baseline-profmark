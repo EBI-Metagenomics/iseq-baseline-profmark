{
 "cells": [
  {
   "cell_type": "code",
   "execution_count": null,
   "metadata": {},
   "outputs": [],
   "source": [
    "import config\n",
    "import itertools\n",
    "import plotly.express as px\n",
    "from fasta_reader import read_fasta\n",
    "from pathlib import Path\n",
    "from sam_io import read_sam\n",
    "import iseq_prof\n",
    "import gff_io\n",
    "from tqdm.notebook import tqdm\n",
    "import hmmer\n",
    "from dna_features_viewer import GraphicFeature, GraphicRecord"
   ]
  },
  {
   "cell_type": "code",
   "execution_count": null,
   "metadata": {},
   "outputs": [],
   "source": [
    "root = Path(config.root_dir)\n",
    "config.root_dir"
   ]
  },
  {
   "cell_type": "code",
   "execution_count": null,
   "metadata": {},
   "outputs": [],
   "source": [
    "output_dir = Path(\"/Users/horta/code/iseq-profmark-nf/chlamydia/output\")"
   ]
  },
  {
   "cell_type": "code",
   "execution_count": null,
   "metadata": {},
   "outputs": [],
   "source": [
    "hybrid = list(read_fasta(root / config.orig_subdir / config.hybrid_consensus))\n",
    "print(f\"# {config.hybrid_consensus}\")\n",
    "print(f\"Number of targets: {len(hybrid)}\")\n",
    "print(f\"Target 1: >{hybrid[0].defline}\")\n",
    "print(f\"Target 2: >{hybrid[1].defline}\")"
   ]
  },
  {
   "cell_type": "code",
   "execution_count": null,
   "metadata": {},
   "outputs": [],
   "source": [
    "assembly_gffs = {}\n",
    "\n",
    "for assembly_gff in gff_io.read_gff(output_dir / \"prokka\" / \"assembly.gff\"):\n",
    "    ID = assembly_gff.attributes_asdict()[\"ID\"]\n",
    "    assembly_gffs[ID] = assembly_gff"
   ]
  },
  {
   "cell_type": "code",
   "execution_count": null,
   "metadata": {},
   "outputs": [],
   "source": [
    "features = []\n",
    "colors = itertools.cycle(px.colors.qualitative.Plotly)\n",
    "profile_colors = {}\n",
    "for domtbl_row in hmmer.read_domtbl(output_dir / \"assembly\" / \"domtblout.txt\"):\n",
    "    assembly_gff = assembly_gffs[domtbl_row.query.name]\n",
    "    offset = int(assembly_gff.start) - 1\n",
    "\n",
    "    alifrom = (domtbl_row.ali_coord.start - 1) * 3\n",
    "    alito = domtbl_row.ali_coord.stop * 3\n",
    "\n",
    "    # [start, end)\n",
    "    start = offset + alifrom\n",
    "    end = offset + alito\n",
    "    \n",
    "    profile_name = domtbl_row.target.name\n",
    "    if profile_name not in profile_colors:\n",
    "        profile_colors[profile_name] = next(colors)\n",
    "\n",
    "    strand = int(assembly_gff.strand + \"1\")\n",
    "    feature = GraphicFeature(start=start, end=end, strand=strand,\n",
    "                             color=profile_colors[profile_name],\n",
    "                             label=profile_name)\n",
    "    features.append(feature)\n",
    "\n",
    "record = GraphicRecord(sequence_length=len(hybrid[1].sequence), features=features)\n",
    "ax = record.plot(figure_width=20)[0]\n",
    "ax.figure.savefig('prokka_on_hybrid_depth49_consensus.png', bbox_inches='tight')"
   ]
  },
  {
   "cell_type": "code",
   "execution_count": null,
   "metadata": {},
   "outputs": [],
   "source": [
    "features = []\n",
    "e_value_thr = 1e-10\n",
    "for item in gff_io.read_gff(output_dir / \"assembly\" / \"output.gff\"):\n",
    "\n",
    "    atts = item.attributes_asdict()\n",
    "    if float(atts[\"E-value\"]) > e_value_thr:\n",
    "        continue\n",
    "        \n",
    "    profile_name = atts[\"Profile_name\"]\n",
    "    if profile_name not in profile_colors:\n",
    "        profile_colors[profile_name] = next(colors)\n",
    "\n",
    "    start = int(item.start)\n",
    "    end = int(item.end)\n",
    "    strand = int(item.strand + \"1\")\n",
    "    feature = GraphicFeature(start=start, end=end, strand=strand,\n",
    "                             color=profile_colors[profile_name],\n",
    "                             label=profile_name)\n",
    "    features.append(feature)\n",
    "\n",
    "record = GraphicRecord(sequence_length=len(hybrid[1].sequence), features=features)\n",
    "ax = record.plot(figure_width=20)[0]\n",
    "ax.figure.savefig('iseq_on_hybrid_depth49_consensus.png', bbox_inches='tight')"
   ]
  },
  {
   "cell_type": "code",
   "execution_count": null,
   "metadata": {},
   "outputs": [],
   "source": [
    "e_value_thr = 1e-10\n",
    "with gff_io.read_gff(output_dir / \"assembly\" / \"output.gff\") as file:\n",
    "    for item in file.read_items():\n",
    "        atts = item.attributes_asdict()\n",
    "        if float(atts[\"E-value\"]) > e_value_thr:\n",
    "            continue\n",
    "        print(atts[\"E-value\"], atts[\"Profile_name\"])"
   ]
  },
  {
   "cell_type": "code",
   "execution_count": null,
   "metadata": {},
   "outputs": [],
   "source": []
  },
  {
   "cell_type": "code",
   "execution_count": null,
   "metadata": {},
   "outputs": [],
   "source": []
  },
  {
   "cell_type": "code",
   "execution_count": null,
   "metadata": {},
   "outputs": [],
   "source": [
    "# FASTQ: 14-2711_R47_1k.fastq"
   ]
  },
  {
   "cell_type": "code",
   "execution_count": null,
   "metadata": {},
   "outputs": [],
   "source": [
    "align_fp = \"/Users/horta/code/iseq-profmark-nf/chlamydia/output/alignment.sam\""
   ]
  },
  {
   "cell_type": "code",
   "execution_count": null,
   "metadata": {},
   "outputs": [],
   "source": [
    "file = read_sam(align_fp)\n",
    "file.header"
   ]
  },
  {
   "cell_type": "code",
   "execution_count": null,
   "metadata": {},
   "outputs": [],
   "source": [
    "item = file.read_item()"
   ]
  },
  {
   "cell_type": "code",
   "execution_count": null,
   "metadata": {},
   "outputs": [],
   "source": [
    "item"
   ]
  },
  {
   "cell_type": "code",
   "execution_count": null,
   "metadata": {},
   "outputs": [],
   "source": [
    "item.rname"
   ]
  },
  {
   "cell_type": "code",
   "execution_count": null,
   "metadata": {},
   "outputs": [],
   "source": [
    "start = int(item.pos) - 1"
   ]
  },
  {
   "cell_type": "code",
   "execution_count": null,
   "metadata": {},
   "outputs": [],
   "source": [
    "item.seq[:10]"
   ]
  },
  {
   "cell_type": "code",
   "execution_count": null,
   "metadata": {},
   "outputs": [],
   "source": [
    "hybrid[1].sequence[start:start+10]"
   ]
  },
  {
   "cell_type": "code",
   "execution_count": null,
   "metadata": {},
   "outputs": [],
   "source": [
    "import re\n",
    "from io import StringIO\n",
    "import urllib.request\n",
    "import hmmer_reader\n",
    "\n",
    "prokka_gff = \"/Users/horta/code/iseq-profmark-nf/chlamydia/output/prokka/assembly.gff\"\n",
    "pattern = re.compile(\".*UniProtKB:([^:,]+)\")\n",
    "\n",
    "gffs = []\n",
    "for gff in gff_io.read_gff(prokka_gff):\n",
    "    if \"similar to AA sequence:UniProtKB\" in gff.attributes:\n",
    "        gffs.append(gff)\n",
    "\n",
    "def fetch_pfam_accessions():\n",
    "    df = hmmer_reader.fetch_metadata(\"/Users/horta/db/pfam/db.hmm\")\n",
    "    df[\"accession\"] = df[\"ACC\"].str.replace(r\"\\..*\", \"\")\n",
    "    return dict(zip(df[\"accession\"], df[\"ACC\"]))\n",
    "\n",
    "\n",
    "pfam_accessions = fetch_pfam_accessions()\n",
    "\n",
    "uniprot_accs = set()\n",
    "for gff in tqdm(gffs):\n",
    "    m = re.match(pattern, gff.attributes_asdict()[\"inference\"])\n",
    "    assert len(m.groups()) == 1\n",
    "    uniprot_accs.add(m.groups()[0])"
   ]
  },
  {
   "cell_type": "code",
   "execution_count": null,
   "metadata": {},
   "outputs": [],
   "source": [
    "def fetch_pfam_accessions():\n",
    "    df = hmmer_reader.fetch_metadata(\"/Users/horta/db/pfam/P.hmm\")\n",
    "    df[\"accession\"] = df[\"ACC\"].str.replace(r\"\\..*\", \"\")\n",
    "    return dict(zip(df[\"accession\"], df[\"ACC\"]))"
   ]
  },
  {
   "cell_type": "code",
   "execution_count": null,
   "metadata": {},
   "outputs": [],
   "source": [
    "df = hmmer_reader.fetch_metadata(\"/Users/horta/db/pfam/Pfam-A.hmm\")\n",
    "df.to_pickle(\"Pfam-A.meta.pkl.gz\")"
   ]
  },
  {
   "cell_type": "code",
   "execution_count": null,
   "metadata": {},
   "outputs": [],
   "source": []
  },
  {
   "cell_type": "code",
   "execution_count": null,
   "metadata": {},
   "outputs": [],
   "source": [
    "!pwd"
   ]
  },
  {
   "cell_type": "code",
   "execution_count": null,
   "metadata": {},
   "outputs": [],
   "source": [
    "gffs[0].attributes"
   ]
  },
  {
   "cell_type": "code",
   "execution_count": null,
   "metadata": {},
   "outputs": [],
   "source": [
    "len(gffs)"
   ]
  },
  {
   "cell_type": "code",
   "execution_count": null,
   "metadata": {},
   "outputs": [],
   "source": [
    "gffs[1].attributes"
   ]
  },
  {
   "cell_type": "code",
   "execution_count": null,
   "metadata": {},
   "outputs": [],
   "source": []
  },
  {
   "cell_type": "code",
   "execution_count": null,
   "metadata": {},
   "outputs": [],
   "source": []
  },
  {
   "cell_type": "code",
   "execution_count": null,
   "metadata": {},
   "outputs": [],
   "source": []
  },
  {
   "cell_type": "code",
   "execution_count": null,
   "metadata": {},
   "outputs": [],
   "source": [
    "# uniprot_accs"
   ]
  },
  {
   "cell_type": "code",
   "execution_count": null,
   "metadata": {},
   "outputs": [],
   "source": [
    "uni_to_pfam = {}\n",
    "\n",
    "for acc in tqdm(uniprot_accs):\n",
    "    url = f\"https://www.uniprot.org/uniprot/{acc}.txt\"\n",
    "    contents = urllib.request.urlopen(url).read().decode()\n",
    "\n",
    "    uni_to_pfam[acc] = set()\n",
    "    for row in StringIO(contents):\n",
    "        if row.startswith(\"DR   Pfam\"):\n",
    "            profile = row.split(\";\")[1].strip()\n",
    "            full_profile = pfam_accessions.get(profile, None)\n",
    "            if full_profile is not None:\n",
    "                uni_to_pfam[acc].add(full_profile)"
   ]
  },
  {
   "cell_type": "code",
   "execution_count": null,
   "metadata": {},
   "outputs": [],
   "source": [
    "len(uni_to_pfam)"
   ]
  },
  {
   "cell_type": "code",
   "execution_count": null,
   "metadata": {},
   "outputs": [],
   "source": [
    "# for uni, pfams in uni_to_pfam.items():\n",
    "#     print(uni, pfams)"
   ]
  },
  {
   "cell_type": "code",
   "execution_count": null,
   "metadata": {},
   "outputs": [],
   "source": [
    "len(gffs)"
   ]
  },
  {
   "cell_type": "code",
   "execution_count": null,
   "metadata": {},
   "outputs": [],
   "source": [
    "gffs[0]"
   ]
  },
  {
   "cell_type": "code",
   "execution_count": null,
   "metadata": {},
   "outputs": [],
   "source": [
    "gffs[1]"
   ]
  },
  {
   "cell_type": "code",
   "execution_count": null,
   "metadata": {},
   "outputs": [],
   "source": [
    "gffs[2]"
   ]
  }
 ],
 "metadata": {
  "kernelspec": {
   "display_name": "Python 3",
   "language": "python",
   "name": "python3"
  },
  "language_info": {
   "codemirror_mode": {
    "name": "ipython",
    "version": 3
   },
   "file_extension": ".py",
   "mimetype": "text/x-python",
   "name": "python",
   "nbconvert_exporter": "python",
   "pygments_lexer": "ipython3",
   "version": "3.8.3"
  }
 },
 "nbformat": 4,
 "nbformat_minor": 4
}
