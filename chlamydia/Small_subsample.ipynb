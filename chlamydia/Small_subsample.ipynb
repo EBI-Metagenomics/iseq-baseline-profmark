{
 "cells": [
  {
   "cell_type": "code",
   "execution_count": null,
   "metadata": {},
   "outputs": [],
   "source": [
    "import re\n",
    "import itertools\n",
    "from pathlib import Path\n",
    "from typing import Optional\n",
    "from numpy.random import RandomState\n",
    "import plotly.express as px\n",
    "from collections import defaultdict\n",
    "import numpy as np\n",
    "import matplotlib.pyplot as plt\n",
    "\n",
    "from hmmer import HMMER, read_domtbl, read_domtbl\n",
    "import gff_io\n",
    "from gff_io.interval import PyInterval, RInterval\n",
    "import hmmer_reader\n",
    "import pandas as pd\n",
    "from iseq_prof import pfam, sam\n",
    "import iseq_prof_analysis as analysis\n",
    "from fasta_reader import read_fasta\n",
    "import sam_io\n",
    "from dna_features_viewer import GraphicFeature, GraphicRecord"
   ]
  },
  {
   "cell_type": "code",
   "execution_count": null,
   "metadata": {},
   "outputs": [],
   "source": [
    "analysis.load_config(verbose=True)\n",
    "EVALUE_THRSHOLD = 1e-10\n",
    "assembly_name = \"hybrid-49depth-assembly\""
   ]
  },
  {
   "cell_type": "code",
   "execution_count": null,
   "metadata": {},
   "outputs": [],
   "source": [
    "root = analysis.config.chlamydia.root_dir\n",
    "hybrid_consensus = analysis.config.chlamydia.hybrid_consensus\n",
    "output_dir = root / \"output_depth49_251targets\"\n",
    "sam_map = sam.SAMMap(output_dir / \"alignment\" / \"alignment.sam\")"
   ]
  },
  {
   "cell_type": "code",
   "execution_count": null,
   "metadata": {},
   "outputs": [],
   "source": [
    "hybrid = list(read_fasta(root / hybrid_consensus))\n",
    "HYBRID_LENGTH = len(hybrid[1].sequence)\n",
    "print(f\"# {hybrid_consensus}\")\n",
    "print(f\"Number of consensus: {len(hybrid)}\")\n",
    "print(f\"Target 2: >{hybrid[1].defline}\")"
   ]
  },
  {
   "cell_type": "code",
   "execution_count": null,
   "metadata": {},
   "outputs": [],
   "source": [
    "ntargets = len(read_fasta(output_dir / \"alignment\" / \"alignment.fasta\").read_items())\n",
    "print(f\"Number of raw targets: {ntargets}\")"
   ]
  },
  {
   "cell_type": "code",
   "execution_count": null,
   "metadata": {},
   "outputs": [],
   "source": [
    "clans = pfam.Clans()\n",
    "def normalize_clan_name(name: Optional[str]) -> str:\n",
    "    if name is None:\n",
    "        return \"Unclassified\"\n",
    "    return name"
   ]
  },
  {
   "cell_type": "code",
   "execution_count": null,
   "metadata": {},
   "outputs": [],
   "source": [
    "def get_prokka_map(gff_filepath):\n",
    "    prokka_map = {}\n",
    "    for item in gff_io.read_gff(gff_filepath):\n",
    "        ID = item.attributes_asdict()[\"ID\"]\n",
    "        assert ID not in prokka_map\n",
    "        prokka_map[ID] = item\n",
    "    return prokka_map"
   ]
  },
  {
   "cell_type": "code",
   "execution_count": null,
   "metadata": {},
   "outputs": [],
   "source": [
    "colors = itertools.cycle(px.colors.qualitative.Plotly)\n",
    "clan_colors = {}"
   ]
  },
  {
   "cell_type": "markdown",
   "metadata": {},
   "source": [
    "## Prokka+HMMER3 on assembly"
   ]
  },
  {
   "cell_type": "code",
   "execution_count": null,
   "metadata": {},
   "outputs": [],
   "source": [
    "def get_assembly_features(output_dir, clans, clan_colors):\n",
    "    features = []\n",
    "    prokka_map = get_prokka_map(output_dir / \"prokka_assembly\" / \"assembly.gff\")\n",
    "    for domtbl_row in read_domtbl(output_dir / \"hmmscan_assembly\" / \"domtbl.txt\"):\n",
    "        prokka = prokka_map[domtbl_row.query.name]\n",
    "\n",
    "        interval = domtbl_row.ali_coord.interval\n",
    "        interval = PyInterval(interval.start * 3, interval.end * 3)\n",
    "        interval = interval.offset(prokka.interval.start)\n",
    "\n",
    "        profile_name = domtbl_row.target.name\n",
    "        profile_clan = normalize_clan_name(clans.get(domtbl_row.target.accession))\n",
    "        if profile_clan not in clan_colors:\n",
    "            clan_colors[profile_clan] = next(colors)\n",
    "\n",
    "        strand = int(prokka.strand + \"1\")\n",
    "        feature = GraphicFeature(start=interval.start, end=interval.end, strand=strand,\n",
    "                                 color=clan_colors[profile_clan],\n",
    "                                 label=profile_name)\n",
    "        features.append(feature)\n",
    "    \n",
    "    return features\n",
    "\n",
    "assembly_features = get_assembly_features(output_dir, clans, clan_colors)"
   ]
  },
  {
   "cell_type": "code",
   "execution_count": null,
   "metadata": {},
   "outputs": [],
   "source": [
    "assembly_record = GraphicRecord(sequence_length=HYBRID_LENGTH, features=assembly_features)\n",
    "ax, _ = assembly_record.plot(figure_width=20);\n",
    "ax.set_title(f\"{assembly_name} ground-truth\");"
   ]
  },
  {
   "cell_type": "code",
   "execution_count": null,
   "metadata": {},
   "outputs": [],
   "source": [
    "def get_iseq_features(output_dir, clans, clan_colors, sam_map):\n",
    "    features_db = defaultdict(list)\n",
    "    for item in gff_io.read_gff(output_dir / \"iseq_scan_targets\" / \"output.gff\"):\n",
    "\n",
    "        atts = item.attributes_asdict()\n",
    "        if float(atts[\"E-value\"]) > EVALUE_THRSHOLD:\n",
    "            continue\n",
    "\n",
    "        profile_name = atts[\"Profile_name\"]\n",
    "        profile_clan = normalize_clan_name(clans.get(atts[\"Profile_acc\"]))\n",
    "\n",
    "        try:\n",
    "            interval = sam_map.back_to_query(item.seqid, item.interval)\n",
    "        except KeyError:\n",
    "            continue\n",
    "        if interval is None:\n",
    "            continue\n",
    "\n",
    "        if profile_clan not in clan_colors:\n",
    "            clan_colors[profile_clan] = next(colors)\n",
    "\n",
    "        strand = int(item.strand + \"1\")\n",
    "        feature = GraphicFeature(start=interval.start, end=interval.end,\n",
    "                                 strand=strand,\n",
    "                                 color=clan_colors[profile_clan],\n",
    "                                 label=profile_name)\n",
    "        features_db[item.seqid].append(feature)\n",
    "    return features_db\n",
    "\n",
    "iseq_features_db = get_iseq_features(output_dir, clans, clan_colors, sam_map)"
   ]
  },
  {
   "cell_type": "code",
   "execution_count": null,
   "metadata": {},
   "outputs": [],
   "source": [
    "def sort_features_db(features_db):\n",
    "    def key_order(key):\n",
    "        if key == \"2\":\n",
    "            return \"0\"\n",
    "        return key\n",
    "    keys = sorted(features_db.keys(), key=key_order)\n",
    "    \n",
    "    return {key: features_db[key] for key in keys}  \n",
    "\n",
    "def seqid2label(key):\n",
    "    if key == \"2\":\n",
    "        return assembly_name\n",
    "    return key"
   ]
  },
  {
   "cell_type": "code",
   "execution_count": null,
   "metadata": {},
   "outputs": [],
   "source": [
    "def get_figure(features_db, assembly_features, assembly_name):\n",
    "    features_db = sort_features_db(features_db)\n",
    "    n = len(features_db) + 1\n",
    "    fig, axs = plt.subplots(n, 1, figsize=(24, 5 * n), sharex=True)\n",
    "\n",
    "    record = GraphicRecord(sequence_length=HYBRID_LENGTH, features=assembly_features)\n",
    "    axs[0].text(0, -0.86, f\"{assembly_name} ground-truth\")\n",
    "    record.plot(ax=axs[0]);\n",
    "\n",
    "    for ax, (seqid, features) in zip(axs[1:], features_db.items()):\n",
    "        record = GraphicRecord(sequence_length=HYBRID_LENGTH, features=features)\n",
    "        interval = sam_map.full_query_interval(seqid)\n",
    "        x = [interval.start, interval.end]\n",
    "        ax.fill_between(x, -1, 1, facecolor=\"peachpuff\", alpha=0.5, zorder=-1)\n",
    "        ax.text(interval.start, -0.8, seqid2label(seqid))\n",
    "        record.plot(ax=ax);\n",
    "    \n",
    "    return fig, axs"
   ]
  },
  {
   "cell_type": "markdown",
   "metadata": {},
   "source": [
    "# ISEQ on raw reads"
   ]
  },
  {
   "cell_type": "code",
   "execution_count": null,
   "metadata": {},
   "outputs": [],
   "source": [
    "fig, axs = get_figure(iseq_features_db, assembly_features, assembly_name)\n",
    "axs[0].set_title(\"ISEQ\");\n",
    "fig.savefig(f\"iseq_on_{ntargets}_sequences.png\", bbox_inches='tight')"
   ]
  },
  {
   "cell_type": "code",
   "execution_count": null,
   "metadata": {},
   "outputs": [],
   "source": [
    "def get_hmmer_features(output_dir, clans, clan_colors, sam_map):\n",
    "    features_db = defaultdict(list)\n",
    "    prokka_map = get_prokka_map(output_dir / \"prokka_targets\" / \"targets.gff\")\n",
    "    for domtbl_row in read_domtbl(output_dir / \"hmmscan_targets\" / \"domtbl.txt\"):\n",
    "        \n",
    "        prokka = prokka_map[domtbl_row.query.name]\n",
    "\n",
    "        interval = domtbl_row.ali_coord.interval\n",
    "        interval = PyInterval(interval.start * 3, interval.end * 3)\n",
    "        interval = interval.offset(prokka.interval.start)\n",
    "\n",
    "        profile_name = domtbl_row.target.name\n",
    "        profile_clan = normalize_clan_name(clans.get(domtbl_row.target.accession))\n",
    "        \n",
    "        try:\n",
    "            interval = sam_map.back_to_query(prokka.seqid, interval)\n",
    "        except KeyError:\n",
    "            continue\n",
    "        if interval is None:\n",
    "            continue\n",
    "\n",
    "        if profile_clan not in clan_colors:\n",
    "            clan_colors[profile_clan] = next(colors)\n",
    "\n",
    "        strand = int(prokka.strand + \"1\")\n",
    "        feature = GraphicFeature(start=interval.start, end=interval.end,\n",
    "                                 strand=strand,\n",
    "                                 color=clan_colors[profile_clan],\n",
    "                                 label=profile_name)\n",
    "        features_db[prokka.seqid].append(feature)\n",
    "    return features_db\n",
    "\n",
    "hmmer_features_db = get_hmmer_features(output_dir, clans, clan_colors, sam_map)"
   ]
  },
  {
   "cell_type": "markdown",
   "metadata": {},
   "source": [
    "# PROKKA+HMMER3 on raw reads"
   ]
  },
  {
   "cell_type": "code",
   "execution_count": null,
   "metadata": {},
   "outputs": [],
   "source": [
    "fig, axs = get_figure(hmmer_features_db, assembly_features, assembly_name)\n",
    "axs[0].set_title(\"PROKKA+HMMER3\");\n",
    "fig.savefig(f\"hmmer3_on_{ntargets}_sequences.png\", bbox_inches='tight')"
   ]
  },
  {
   "cell_type": "markdown",
   "metadata": {},
   "source": [
    "# ISEQ & PROKKA+HMMER3 on raw reads"
   ]
  },
  {
   "cell_type": "code",
   "execution_count": null,
   "metadata": {},
   "outputs": [],
   "source": [
    "keys = set(iseq_features_db.keys()) & set(hmmer_features_db.keys())"
   ]
  },
  {
   "cell_type": "code",
   "execution_count": null,
   "metadata": {},
   "outputs": [],
   "source": [
    "def get_figure2(features_db1, features_db2, title1, title2, assembly_features, assembly_name):\n",
    "    features_dbs = [sort_features_db(features_db1), sort_features_db(features_db2)]\n",
    "    n = len(features_db1) + 1\n",
    "    fig, axs = plt.subplots(n, 2, figsize=(24, 5 * n), sharex=True)\n",
    "\n",
    "    record = GraphicRecord(sequence_length=HYBRID_LENGTH, features=assembly_features)\n",
    "    axs[0][0].text(0, -0.86, f\"{assembly_name} ground-truth\")\n",
    "    axs[0][1].text(0, -0.86, f\"{assembly_name} ground-truth\")\n",
    "    record.plot(ax=axs[0][0]);\n",
    "    record.plot(ax=axs[0][1]);\n",
    "\n",
    "    for ax, (seqid1, features1), (seqid2, features2) in zip(axs[1:], features_db1.items(), features_db2.items()):\n",
    "        assert seqid1 == seqid2\n",
    "        record1 = GraphicRecord(sequence_length=HYBRID_LENGTH, features=features1)\n",
    "        interval1 = sam_map.full_query_interval(seqid1)\n",
    "        x1 = [interval1.start, interval1.end]\n",
    "        ax[0].fill_between(x1, -1, 1, facecolor=\"peachpuff\", alpha=0.5, zorder=-1)\n",
    "        ax[0].text(interval1.start, -0.8, seqid2label(seqid1))\n",
    "        record1.plot(ax=ax[0]);\n",
    "\n",
    "        record2 = GraphicRecord(sequence_length=HYBRID_LENGTH, features=features2)\n",
    "        interval2 = sam_map.full_query_interval(seqid2)\n",
    "        x2 = [interval2.start, interval2.end]\n",
    "        ax[1].fill_between(x2, -1, 1, facecolor=\"peachpuff\", alpha=0.5, zorder=-1)\n",
    "        ax[1].text(interval2.start, -0.8, seqid2label(seqid1))\n",
    "        record2.plot(ax=ax[1]);\n",
    "    \n",
    "    return fig, axs"
   ]
  },
  {
   "cell_type": "code",
   "execution_count": null,
   "metadata": {},
   "outputs": [],
   "source": [
    "fig, axs = get_figure2({key: iseq_features_db[key] for key in keys},\n",
    "                       {key: hmmer_features_db[key] for key in keys},\n",
    "                       \"ISEQ\", \"PROKKA+HMMER3\",\n",
    "                        assembly_features,\n",
    "                        assembly_name)\n",
    "axs[0][0].set_title(\"ISEQ\");\n",
    "axs[0][1].set_title(\"PROKKA+HMMER3\");\n",
    "fig.savefig(f\"iseq_vs_prokka_hmmer3_{ntargets}_sequences.png\", bbox_inches='tight')"
   ]
  }
 ],
 "metadata": {
  "kernelspec": {
   "display_name": "Python 3",
   "language": "python",
   "name": "python3"
  },
  "language_info": {
   "codemirror_mode": {
    "name": "ipython",
    "version": 3
   },
   "file_extension": ".py",
   "mimetype": "text/x-python",
   "name": "python",
   "nbconvert_exporter": "python",
   "pygments_lexer": "ipython3",
   "version": "3.8.5"
  }
 },
 "nbformat": 4,
 "nbformat_minor": 4
}
